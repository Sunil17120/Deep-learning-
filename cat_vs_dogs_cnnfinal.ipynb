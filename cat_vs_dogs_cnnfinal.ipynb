{
  "nbformat": 4,
  "nbformat_minor": 0,
  "metadata": {
    "colab": {
      "provenance": [],
      "authorship_tag": "ABX9TyNkf8gJK6AqW5Y0oWwPk2XE",
      "include_colab_link": true
    },
    "kernelspec": {
      "name": "python3",
      "display_name": "Python 3"
    },
    "language_info": {
      "name": "python"
    }
  },
  "cells": [
    {
      "cell_type": "markdown",
      "metadata": {
        "id": "view-in-github",
        "colab_type": "text"
      },
      "source": [
        "<a href=\"https://colab.research.google.com/github/Sunil17120/Deep-learning-/blob/main/cat_vs_dogs_cnnfinal.ipynb\" target=\"_parent\"><img src=\"https://colab.research.google.com/assets/colab-badge.svg\" alt=\"Open In Colab\"/></a>"
      ]
    },
    {
      "cell_type": "code",
      "execution_count": null,
      "metadata": {
        "id": "J7KMe7HIQSWF"
      },
      "outputs": [],
      "source": [
        "import tensorflow as tf\n",
        "from tensorflow import keras\n",
        "from tensorflow.keras import layers\n"
      ]
    },
    {
      "cell_type": "code",
      "source": [
        "import tensorflow_datasets as tfds\n",
        "dataset_name=\"cats_vs_dogs\"\n",
        "data,info=tfds.load(name=dataset_name,split=\"train\",with_info=True,as_supervised=True)"
      ],
      "metadata": {
        "colab": {
          "base_uri": "https://localhost:8080/",
          "height": 156,
          "referenced_widgets": [
            "7ebe30efb4344d45a088e850e5c077d2",
            "fb4de4bf484941e78911106bdc1b4071",
            "99402300489e4021bddd8850aebea7d6",
            "479b8430c0034715acc066331256b7df",
            "5ccda229686f4d1fa2e447fdfce8db46",
            "d0ce3be5c85c44cf95ad98383ef6032a",
            "73042fd389ea419e8e34f94d6a1b84eb",
            "c7bfa7ac221d4058a347d4449672db97",
            "8a95b6d2d2ca487090f1850853f329fd",
            "b81aca46944648ebbf76782ce82a3f3b",
            "52fc1d48c82e4049b91e7d7929df9d2d",
            "261375b042214a658a12cc461ee76671",
            "87592471caa240f7ab8b46c60ec21818",
            "6462d3f94fd7421eac4575f40080bba8",
            "aa6b72d9b07140c989bb0dadfbd91dfd",
            "84c0bf856d3d4d198c0997f0dfd2cfd8",
            "bd824f12cf6a4e82b4054a3a376bc52d",
            "5e8020621bd948bb8a41cc0bcc42f129",
            "9d8e517cbe9a4e56930444ba32b52930",
            "c84c066097f0452e94d5d65eb43f481d",
            "5d74b189424e42059d1642547d7f54c3",
            "0d9379e6b3744deb9b47aedeba67ddf9",
            "f1d2a9a85eec4ed2b64468b5fa918dd6",
            "452de42bcef44d75a933bf92452b675c",
            "ce82becee85843f7aaf9204c6efdfaa0",
            "2b7b612da867429a8f159cd850bfe0da",
            "77046e7e9bf54bc2936ad9b2d5947a16",
            "ee477326eccf44cb8dddff2e45c5d871",
            "3583674e32d742c2b9c48a5f7be0b535",
            "8c77a32ca4da4fd48f832387abb25416",
            "fbb314d7a6164f71b88209633ba9abf1",
            "881a49707c0243af900e7ae56549c164",
            "5368db603979461897af031a415ca7cd",
            "34fd4bf87ccf422d95edac95f95a61bf",
            "6e14b65dc3844df5b33ce410cb7b1e0a",
            "c6b1d6f25336459d9c8bfc4518f7cf5f",
            "a7f41a50dab5421a9c572bfd93643105",
            "5fee1d4c567344f585f6674ce4eb06d2",
            "43f84de434cd4eebb0c8d4b98fc1e998",
            "057f7c8d649f418eb89a23560ac0b593",
            "80afceac2ef24f5da8b308262aa25e01",
            "1adaa17db1064d1dab833fb611f10003",
            "3497abc3d82044a49523ec7a9fe002dc",
            "a7980b4e626c4cd18769c88d49975892",
            "380a7a771ecf4aa5be091cf822f7888a",
            "6062c1543e5c42b4bd7eea6dd24712c9",
            "80ed0833af7d465cb124352ce6c2c5a2",
            "c05ae472e9a1434fb2f0e3ae4710cabc",
            "70c3fe6001004f9695cdc8d3125f384c",
            "d4ebf32cdb3b4512a62776e33142651e",
            "9ddd5b033ba54816877d3a48bad3b6a6",
            "3695bdbad52d4c0681aca88b98e5a4f4",
            "e8154eff73904be4a89bad83b730c421",
            "87d8693a8e4140bca1553cee9a375cf0",
            "ef3657ce2caf418589a349f82aa51bdf"
          ]
        },
        "id": "sIe6rMzEVYqK",
        "outputId": "71e73557-b8ea-4e8a-a0e5-425b5f4e371c"
      },
      "execution_count": null,
      "outputs": [
        {
          "output_type": "stream",
          "name": "stdout",
          "text": [
            "Downloading and preparing dataset 786.67 MiB (download: 786.67 MiB, generated: 1.04 GiB, total: 1.81 GiB) to /root/tensorflow_datasets/cats_vs_dogs/4.0.1...\n"
          ]
        },
        {
          "output_type": "display_data",
          "data": {
            "text/plain": [
              "Dl Completed...: 0 url [00:00, ? url/s]"
            ],
            "application/vnd.jupyter.widget-view+json": {
              "version_major": 2,
              "version_minor": 0,
              "model_id": "7ebe30efb4344d45a088e850e5c077d2"
            }
          },
          "metadata": {}
        },
        {
          "output_type": "display_data",
          "data": {
            "text/plain": [
              "Dl Size...: 0 MiB [00:00, ? MiB/s]"
            ],
            "application/vnd.jupyter.widget-view+json": {
              "version_major": 2,
              "version_minor": 0,
              "model_id": "261375b042214a658a12cc461ee76671"
            }
          },
          "metadata": {}
        },
        {
          "output_type": "display_data",
          "data": {
            "text/plain": [
              "Generating splits...:   0%|          | 0/1 [00:00<?, ? splits/s]"
            ],
            "application/vnd.jupyter.widget-view+json": {
              "version_major": 2,
              "version_minor": 0,
              "model_id": "f1d2a9a85eec4ed2b64468b5fa918dd6"
            }
          },
          "metadata": {}
        },
        {
          "output_type": "display_data",
          "data": {
            "text/plain": [
              "Generating train examples...:   0%|          | 0/23262 [00:00<?, ? examples/s]"
            ],
            "application/vnd.jupyter.widget-view+json": {
              "version_major": 2,
              "version_minor": 0,
              "model_id": "34fd4bf87ccf422d95edac95f95a61bf"
            }
          },
          "metadata": {}
        },
        {
          "output_type": "stream",
          "name": "stderr",
          "text": [
            "WARNING:absl:1738 images were corrupted and were skipped\n"
          ]
        },
        {
          "output_type": "display_data",
          "data": {
            "text/plain": [
              "Shuffling /root/tensorflow_datasets/cats_vs_dogs/incomplete.6HC29D_4.0.1/cats_vs_dogs-train.tfrecord*...:   0%…"
            ],
            "application/vnd.jupyter.widget-view+json": {
              "version_major": 2,
              "version_minor": 0,
              "model_id": "380a7a771ecf4aa5be091cf822f7888a"
            }
          },
          "metadata": {}
        },
        {
          "output_type": "stream",
          "name": "stdout",
          "text": [
            "Dataset cats_vs_dogs downloaded and prepared to /root/tensorflow_datasets/cats_vs_dogs/4.0.1. Subsequent calls will reuse this data.\n"
          ]
        }
      ]
    },
    {
      "cell_type": "code",
      "source": [
        "def preprocess(image,label):\n",
        "    image=tf.image.resize(image,(150,150))/255\n",
        "    return image,label"
      ],
      "metadata": {
        "id": "Vb0-RavgWNjn"
      },
      "execution_count": null,
      "outputs": []
    },
    {
      "cell_type": "code",
      "source": [
        "train_data=data.take(20000)\n",
        "val_data=data.skip(20000).take(5000)"
      ],
      "metadata": {
        "id": "JAMqVTXQWeWY"
      },
      "execution_count": null,
      "outputs": []
    },
    {
      "cell_type": "code",
      "source": [
        "train_data=train_data.map(preprocess).batch(32).shuffle(1000)\n",
        "val_data=val_data.map(preprocess).batch(32)"
      ],
      "metadata": {
        "id": "6tZUumPwaE0E"
      },
      "execution_count": null,
      "outputs": []
    },
    {
      "cell_type": "code",
      "source": [
        "model=keras.Sequential([\n",
        "    layers.Conv2D(32,(3,3),activation=\"relu\",input_shape=(150,150,3)),\n",
        "    layers.MaxPooling2D((2,2)),\n",
        "    layers.Conv2D(64,(3,3),activation=\"relu\"),\n",
        "    layers.MaxPooling2D((2,2)),\n",
        "    layers.Conv2D(128,(3,3),activation=\"relu\"),\n",
        "    layers.MaxPooling2D((2,2)),\n",
        "    layers.Flatten(),\n",
        "    layers.Dense(512,activation=\"relu\"),\n",
        "    layers.Dense(1,activation=\"sigmoid\")\n",
        "])"
      ],
      "metadata": {
        "colab": {
          "base_uri": "https://localhost:8080/"
        },
        "id": "WrqDTvygaUU4",
        "outputId": "a944b7c1-5aa9-4c93-9f15-d4040a4a83e8"
      },
      "execution_count": null,
      "outputs": [
        {
          "output_type": "stream",
          "name": "stderr",
          "text": [
            "/usr/local/lib/python3.11/dist-packages/keras/src/layers/convolutional/base_conv.py:107: UserWarning: Do not pass an `input_shape`/`input_dim` argument to a layer. When using Sequential models, prefer using an `Input(shape)` object as the first layer in the model instead.\n",
            "  super().__init__(activity_regularizer=activity_regularizer, **kwargs)\n"
          ]
        }
      ]
    },
    {
      "cell_type": "code",
      "source": [
        "model.compile(optimizer=\"adam\",loss=\"binary_crossentropy\",metrics=['accuracy'])\n"
      ],
      "metadata": {
        "id": "Aj4NRweMas88"
      },
      "execution_count": null,
      "outputs": []
    },
    {
      "cell_type": "code",
      "source": [
        "model.fit(train_data,validation_data=val_data,epochs=5)"
      ],
      "metadata": {
        "colab": {
          "base_uri": "https://localhost:8080/"
        },
        "id": "2pJQu_S-cPsG",
        "outputId": "f5c2b659-0be8-4510-e0b7-ae6cbebbdd60"
      },
      "execution_count": null,
      "outputs": [
        {
          "output_type": "stream",
          "name": "stdout",
          "text": [
            "Epoch 1/5\n",
            "\u001b[1m625/625\u001b[0m \u001b[32m━━━━━━━━━━━━━━━━━━━━\u001b[0m\u001b[37m\u001b[0m \u001b[1m88s\u001b[0m 88ms/step - accuracy: 0.6088 - loss: 0.6554 - val_accuracy: 0.7177 - val_loss: 0.5364\n",
            "Epoch 2/5\n",
            "\u001b[1m625/625\u001b[0m \u001b[32m━━━━━━━━━━━━━━━━━━━━\u001b[0m\u001b[37m\u001b[0m \u001b[1m59s\u001b[0m 58ms/step - accuracy: 0.7668 - loss: 0.4804 - val_accuracy: 0.7986 - val_loss: 0.4372\n",
            "Epoch 3/5\n",
            "\u001b[1m625/625\u001b[0m \u001b[32m━━━━━━━━━━━━━━━━━━━━\u001b[0m\u001b[37m\u001b[0m \u001b[1m79s\u001b[0m 56ms/step - accuracy: 0.8227 - loss: 0.3937 - val_accuracy: 0.8173 - val_loss: 0.4123\n",
            "Epoch 4/5\n",
            "\u001b[1m625/625\u001b[0m \u001b[32m━━━━━━━━━━━━━━━━━━━━\u001b[0m\u001b[37m\u001b[0m \u001b[1m61s\u001b[0m 62ms/step - accuracy: 0.8681 - loss: 0.3024 - val_accuracy: 0.8246 - val_loss: 0.3987\n",
            "Epoch 5/5\n",
            "\u001b[1m625/625\u001b[0m \u001b[32m━━━━━━━━━━━━━━━━━━━━\u001b[0m\u001b[37m\u001b[0m \u001b[1m58s\u001b[0m 57ms/step - accuracy: 0.9246 - loss: 0.1865 - val_accuracy: 0.8188 - val_loss: 0.4541\n"
          ]
        },
        {
          "output_type": "execute_result",
          "data": {
            "text/plain": [
              "<keras.src.callbacks.history.History at 0x7f6b65a0bb50>"
            ]
          },
          "metadata": {},
          "execution_count": 8
        }
      ]
    },
    {
      "cell_type": "code",
      "source": [
        "model.save(\"cats_vs_dogs_cnn.h5\")"
      ],
      "metadata": {
        "colab": {
          "base_uri": "https://localhost:8080/"
        },
        "id": "u0qgUL6NcZxU",
        "outputId": "3e286750-2dc2-4af4-dddd-ddd989e7a39d"
      },
      "execution_count": null,
      "outputs": [
        {
          "output_type": "stream",
          "name": "stderr",
          "text": [
            "WARNING:absl:You are saving your model as an HDF5 file via `model.save()` or `keras.saving.save_model(model)`. This file format is considered legacy. We recommend using instead the native Keras format, e.g. `model.save('my_model.keras')` or `keras.saving.save_model(model, 'my_model.keras')`. \n"
          ]
        }
      ]
    }
  ]
}